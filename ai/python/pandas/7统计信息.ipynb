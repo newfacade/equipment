{
 "cells": [
  {
   "cell_type": "code",
   "execution_count": 1,
   "metadata": {},
   "outputs": [],
   "source": [
    "import pandas as pd\n",
    "import numpy as np"
   ]
  },
  {
   "cell_type": "markdown",
   "metadata": {},
   "source": [
    "# 1.通过describe查看总体信息"
   ]
  },
  {
   "cell_type": "code",
   "execution_count": 2,
   "metadata": {},
   "outputs": [
    {
     "data": {
      "text/html": [
       "<div>\n",
       "<style scoped>\n",
       "    .dataframe tbody tr th:only-of-type {\n",
       "        vertical-align: middle;\n",
       "    }\n",
       "\n",
       "    .dataframe tbody tr th {\n",
       "        vertical-align: top;\n",
       "    }\n",
       "\n",
       "    .dataframe thead th {\n",
       "        text-align: right;\n",
       "    }\n",
       "</style>\n",
       "<table border=\"1\" class=\"dataframe\">\n",
       "  <thead>\n",
       "    <tr style=\"text-align: right;\">\n",
       "      <th></th>\n",
       "      <th>duration</th>\n",
       "      <th>playtime</th>\n",
       "      <th>up</th>\n",
       "      <th>favorite</th>\n",
       "      <th>comment</th>\n",
       "      <th>share</th>\n",
       "    </tr>\n",
       "  </thead>\n",
       "  <tbody>\n",
       "    <tr>\n",
       "      <th>a</th>\n",
       "      <td>79</td>\n",
       "      <td>82</td>\n",
       "      <td>75</td>\n",
       "      <td>99</td>\n",
       "      <td>99</td>\n",
       "      <td>3</td>\n",
       "    </tr>\n",
       "    <tr>\n",
       "      <th>b</th>\n",
       "      <td>38</td>\n",
       "      <td>89</td>\n",
       "      <td>55</td>\n",
       "      <td>40</td>\n",
       "      <td>25</td>\n",
       "      <td>31</td>\n",
       "    </tr>\n",
       "    <tr>\n",
       "      <th>c</th>\n",
       "      <td>66</td>\n",
       "      <td>77</td>\n",
       "      <td>26</td>\n",
       "      <td>95</td>\n",
       "      <td>29</td>\n",
       "      <td>27</td>\n",
       "    </tr>\n",
       "    <tr>\n",
       "      <th>d</th>\n",
       "      <td>3</td>\n",
       "      <td>76</td>\n",
       "      <td>48</td>\n",
       "      <td>19</td>\n",
       "      <td>44</td>\n",
       "      <td>59</td>\n",
       "    </tr>\n",
       "    <tr>\n",
       "      <th>e</th>\n",
       "      <td>71</td>\n",
       "      <td>43</td>\n",
       "      <td>97</td>\n",
       "      <td>56</td>\n",
       "      <td>31</td>\n",
       "      <td>65</td>\n",
       "    </tr>\n",
       "    <tr>\n",
       "      <th>f</th>\n",
       "      <td>66</td>\n",
       "      <td>45</td>\n",
       "      <td>79</td>\n",
       "      <td>30</td>\n",
       "      <td>52</td>\n",
       "      <td>67</td>\n",
       "    </tr>\n",
       "    <tr>\n",
       "      <th>g</th>\n",
       "      <td>81</td>\n",
       "      <td>70</td>\n",
       "      <td>49</td>\n",
       "      <td>13</td>\n",
       "      <td>91</td>\n",
       "      <td>89</td>\n",
       "    </tr>\n",
       "    <tr>\n",
       "      <th>h</th>\n",
       "      <td>60</td>\n",
       "      <td>83</td>\n",
       "      <td>99</td>\n",
       "      <td>10</td>\n",
       "      <td>49</td>\n",
       "      <td>85</td>\n",
       "    </tr>\n",
       "  </tbody>\n",
       "</table>\n",
       "</div>"
      ],
      "text/plain": [
       "   duration  playtime  up  favorite  comment  share\n",
       "a        79        82  75        99       99      3\n",
       "b        38        89  55        40       25     31\n",
       "c        66        77  26        95       29     27\n",
       "d         3        76  48        19       44     59\n",
       "e        71        43  97        56       31     65\n",
       "f        66        45  79        30       52     67\n",
       "g        81        70  49        13       91     89\n",
       "h        60        83  99        10       49     85"
      ]
     },
     "execution_count": 2,
     "metadata": {},
     "output_type": "execute_result"
    }
   ],
   "source": [
    "df = pd.read_csv('sample.csv', index_col=0)\n",
    "df"
   ]
  },
  {
   "cell_type": "code",
   "execution_count": 3,
   "metadata": {},
   "outputs": [
    {
     "data": {
      "text/html": [
       "<div>\n",
       "<style scoped>\n",
       "    .dataframe tbody tr th:only-of-type {\n",
       "        vertical-align: middle;\n",
       "    }\n",
       "\n",
       "    .dataframe tbody tr th {\n",
       "        vertical-align: top;\n",
       "    }\n",
       "\n",
       "    .dataframe thead th {\n",
       "        text-align: right;\n",
       "    }\n",
       "</style>\n",
       "<table border=\"1\" class=\"dataframe\">\n",
       "  <thead>\n",
       "    <tr style=\"text-align: right;\">\n",
       "      <th></th>\n",
       "      <th>duration</th>\n",
       "      <th>playtime</th>\n",
       "      <th>up</th>\n",
       "      <th>favorite</th>\n",
       "      <th>comment</th>\n",
       "      <th>share</th>\n",
       "    </tr>\n",
       "  </thead>\n",
       "  <tbody>\n",
       "    <tr>\n",
       "      <th>count</th>\n",
       "      <td>8.00000</td>\n",
       "      <td>8.000000</td>\n",
       "      <td>8.000000</td>\n",
       "      <td>8.000000</td>\n",
       "      <td>8.000000</td>\n",
       "      <td>8.000000</td>\n",
       "    </tr>\n",
       "    <tr>\n",
       "      <th>mean</th>\n",
       "      <td>58.00000</td>\n",
       "      <td>70.625000</td>\n",
       "      <td>66.000000</td>\n",
       "      <td>45.250000</td>\n",
       "      <td>52.500000</td>\n",
       "      <td>53.250000</td>\n",
       "    </tr>\n",
       "    <tr>\n",
       "      <th>std</th>\n",
       "      <td>25.90091</td>\n",
       "      <td>17.361184</td>\n",
       "      <td>25.729361</td>\n",
       "      <td>35.277472</td>\n",
       "      <td>28.030596</td>\n",
       "      <td>30.131853</td>\n",
       "    </tr>\n",
       "    <tr>\n",
       "      <th>min</th>\n",
       "      <td>3.00000</td>\n",
       "      <td>43.000000</td>\n",
       "      <td>26.000000</td>\n",
       "      <td>10.000000</td>\n",
       "      <td>25.000000</td>\n",
       "      <td>3.000000</td>\n",
       "    </tr>\n",
       "    <tr>\n",
       "      <th>25%</th>\n",
       "      <td>54.50000</td>\n",
       "      <td>63.750000</td>\n",
       "      <td>48.750000</td>\n",
       "      <td>17.500000</td>\n",
       "      <td>30.500000</td>\n",
       "      <td>30.000000</td>\n",
       "    </tr>\n",
       "    <tr>\n",
       "      <th>50%</th>\n",
       "      <td>66.00000</td>\n",
       "      <td>76.500000</td>\n",
       "      <td>65.000000</td>\n",
       "      <td>35.000000</td>\n",
       "      <td>46.500000</td>\n",
       "      <td>62.000000</td>\n",
       "    </tr>\n",
       "    <tr>\n",
       "      <th>75%</th>\n",
       "      <td>73.00000</td>\n",
       "      <td>82.250000</td>\n",
       "      <td>83.500000</td>\n",
       "      <td>65.750000</td>\n",
       "      <td>61.750000</td>\n",
       "      <td>71.500000</td>\n",
       "    </tr>\n",
       "    <tr>\n",
       "      <th>max</th>\n",
       "      <td>81.00000</td>\n",
       "      <td>89.000000</td>\n",
       "      <td>99.000000</td>\n",
       "      <td>99.000000</td>\n",
       "      <td>99.000000</td>\n",
       "      <td>89.000000</td>\n",
       "    </tr>\n",
       "  </tbody>\n",
       "</table>\n",
       "</div>"
      ],
      "text/plain": [
       "       duration   playtime         up   favorite    comment      share\n",
       "count   8.00000   8.000000   8.000000   8.000000   8.000000   8.000000\n",
       "mean   58.00000  70.625000  66.000000  45.250000  52.500000  53.250000\n",
       "std    25.90091  17.361184  25.729361  35.277472  28.030596  30.131853\n",
       "min     3.00000  43.000000  26.000000  10.000000  25.000000   3.000000\n",
       "25%    54.50000  63.750000  48.750000  17.500000  30.500000  30.000000\n",
       "50%    66.00000  76.500000  65.000000  35.000000  46.500000  62.000000\n",
       "75%    73.00000  82.250000  83.500000  65.750000  61.750000  71.500000\n",
       "max    81.00000  89.000000  99.000000  99.000000  99.000000  89.000000"
      ]
     },
     "execution_count": 3,
     "metadata": {},
     "output_type": "execute_result"
    }
   ],
   "source": [
    "df.describe()"
   ]
  },
  {
   "cell_type": "code",
   "execution_count": 4,
   "metadata": {},
   "outputs": [
    {
     "data": {
      "text/plain": [
       "count     8.000000\n",
       "mean     66.000000\n",
       "std      25.729361\n",
       "min      26.000000\n",
       "25%      48.750000\n",
       "50%      65.000000\n",
       "75%      83.500000\n",
       "max      99.000000\n",
       "Name: up, dtype: float64"
      ]
     },
     "execution_count": 4,
     "metadata": {},
     "output_type": "execute_result"
    }
   ],
   "source": [
    "df['up'].describe()"
   ]
  },
  {
   "cell_type": "markdown",
   "metadata": {},
   "source": [
    "# 2.统计函数"
   ]
  },
  {
   "cell_type": "code",
   "execution_count": 5,
   "metadata": {},
   "outputs": [
    {
     "data": {
      "text/plain": [
       "66.0"
      ]
     },
     "execution_count": 5,
     "metadata": {},
     "output_type": "execute_result"
    }
   ],
   "source": [
    "df['up'].mean() # 也有count,sum,median,min,max,std等统计函数"
   ]
  },
  {
   "cell_type": "code",
   "execution_count": 6,
   "metadata": {},
   "outputs": [
    {
     "data": {
      "text/plain": [
       "duration    73.00\n",
       "playtime    82.25\n",
       "up          83.50\n",
       "favorite    65.75\n",
       "comment     61.75\n",
       "share       71.50\n",
       "Name: 0.75, dtype: float64"
      ]
     },
     "execution_count": 6,
     "metadata": {},
     "output_type": "execute_result"
    }
   ],
   "source": [
    "df.quantile(q=0.75) # 75%分位数"
   ]
  },
  {
   "cell_type": "code",
   "execution_count": 7,
   "metadata": {},
   "outputs": [
    {
     "data": {
      "text/html": [
       "<div>\n",
       "<style scoped>\n",
       "    .dataframe tbody tr th:only-of-type {\n",
       "        vertical-align: middle;\n",
       "    }\n",
       "\n",
       "    .dataframe tbody tr th {\n",
       "        vertical-align: top;\n",
       "    }\n",
       "\n",
       "    .dataframe thead th {\n",
       "        text-align: right;\n",
       "    }\n",
       "</style>\n",
       "<table border=\"1\" class=\"dataframe\">\n",
       "  <thead>\n",
       "    <tr style=\"text-align: right;\">\n",
       "      <th></th>\n",
       "      <th>duration</th>\n",
       "      <th>playtime</th>\n",
       "      <th>up</th>\n",
       "      <th>favorite</th>\n",
       "      <th>comment</th>\n",
       "      <th>share</th>\n",
       "    </tr>\n",
       "  </thead>\n",
       "  <tbody>\n",
       "    <tr>\n",
       "      <th>duration</th>\n",
       "      <td>1.000000</td>\n",
       "      <td>-0.294501</td>\n",
       "      <td>0.270317</td>\n",
       "      <td>0.356627</td>\n",
       "      <td>0.472440</td>\n",
       "      <td>0.002197</td>\n",
       "    </tr>\n",
       "    <tr>\n",
       "      <th>playtime</th>\n",
       "      <td>-0.294501</td>\n",
       "      <td>1.000000</td>\n",
       "      <td>-0.390809</td>\n",
       "      <td>0.086012</td>\n",
       "      <td>0.107882</td>\n",
       "      <td>-0.388667</td>\n",
       "    </tr>\n",
       "    <tr>\n",
       "      <th>up</th>\n",
       "      <td>0.270317</td>\n",
       "      <td>-0.390809</td>\n",
       "      <td>1.000000</td>\n",
       "      <td>-0.229159</td>\n",
       "      <td>0.073488</td>\n",
       "      <td>0.317307</td>\n",
       "    </tr>\n",
       "    <tr>\n",
       "      <th>favorite</th>\n",
       "      <td>0.356627</td>\n",
       "      <td>0.086012</td>\n",
       "      <td>-0.229159</td>\n",
       "      <td>1.000000</td>\n",
       "      <td>0.051431</td>\n",
       "      <td>-0.859649</td>\n",
       "    </tr>\n",
       "    <tr>\n",
       "      <th>comment</th>\n",
       "      <td>0.472440</td>\n",
       "      <td>0.107882</td>\n",
       "      <td>0.073488</td>\n",
       "      <td>0.051431</td>\n",
       "      <td>1.000000</td>\n",
       "      <td>-0.025540</td>\n",
       "    </tr>\n",
       "    <tr>\n",
       "      <th>share</th>\n",
       "      <td>0.002197</td>\n",
       "      <td>-0.388667</td>\n",
       "      <td>0.317307</td>\n",
       "      <td>-0.859649</td>\n",
       "      <td>-0.025540</td>\n",
       "      <td>1.000000</td>\n",
       "    </tr>\n",
       "  </tbody>\n",
       "</table>\n",
       "</div>"
      ],
      "text/plain": [
       "          duration  playtime        up  favorite   comment     share\n",
       "duration  1.000000 -0.294501  0.270317  0.356627  0.472440  0.002197\n",
       "playtime -0.294501  1.000000 -0.390809  0.086012  0.107882 -0.388667\n",
       "up        0.270317 -0.390809  1.000000 -0.229159  0.073488  0.317307\n",
       "favorite  0.356627  0.086012 -0.229159  1.000000  0.051431 -0.859649\n",
       "comment   0.472440  0.107882  0.073488  0.051431  1.000000 -0.025540\n",
       "share     0.002197 -0.388667  0.317307 -0.859649 -0.025540  1.000000"
      ]
     },
     "execution_count": 7,
     "metadata": {},
     "output_type": "execute_result"
    }
   ],
   "source": [
    "df.corr() # 各列的相关系数"
   ]
  },
  {
   "cell_type": "markdown",
   "metadata": {},
   "source": [
    "# 3.cut和qcut\n",
    "\n",
    "### cut是等间距分箱"
   ]
  },
  {
   "cell_type": "code",
   "execution_count": 8,
   "metadata": {},
   "outputs": [
    {
     "data": {
      "text/plain": [
       "a     (61.5, 81.0]\n",
       "b     (22.5, 42.0]\n",
       "c     (61.5, 81.0]\n",
       "d    (2.922, 22.5]\n",
       "e     (61.5, 81.0]\n",
       "f     (61.5, 81.0]\n",
       "g     (61.5, 81.0]\n",
       "h     (42.0, 61.5]\n",
       "Name: duration, dtype: category\n",
       "Categories (4, interval[float64]): [(2.922, 22.5] < (22.5, 42.0] < (42.0, 61.5] < (61.5, 81.0]]"
      ]
     },
     "execution_count": 8,
     "metadata": {},
     "output_type": "execute_result"
    }
   ],
   "source": [
    "pd.cut(df['duration'], 4, labels=None)"
   ]
  },
  {
   "cell_type": "markdown",
   "metadata": {},
   "source": [
    "### qcut是按分位数分箱"
   ]
  },
  {
   "cell_type": "code",
   "execution_count": 9,
   "metadata": {},
   "outputs": [
    {
     "data": {
      "text/html": [
       "<div>\n",
       "<style scoped>\n",
       "    .dataframe tbody tr th:only-of-type {\n",
       "        vertical-align: middle;\n",
       "    }\n",
       "\n",
       "    .dataframe tbody tr th {\n",
       "        vertical-align: top;\n",
       "    }\n",
       "\n",
       "    .dataframe thead th {\n",
       "        text-align: right;\n",
       "    }\n",
       "</style>\n",
       "<table border=\"1\" class=\"dataframe\">\n",
       "  <thead>\n",
       "    <tr style=\"text-align: right;\">\n",
       "      <th></th>\n",
       "      <th>duration</th>\n",
       "      <th>playtime</th>\n",
       "      <th>up</th>\n",
       "      <th>favorite</th>\n",
       "      <th>comment</th>\n",
       "      <th>share</th>\n",
       "      <th>duration_section</th>\n",
       "    </tr>\n",
       "  </thead>\n",
       "  <tbody>\n",
       "    <tr>\n",
       "      <th>a</th>\n",
       "      <td>79</td>\n",
       "      <td>82</td>\n",
       "      <td>75</td>\n",
       "      <td>99</td>\n",
       "      <td>99</td>\n",
       "      <td>3</td>\n",
       "      <td>2</td>\n",
       "    </tr>\n",
       "    <tr>\n",
       "      <th>b</th>\n",
       "      <td>38</td>\n",
       "      <td>89</td>\n",
       "      <td>55</td>\n",
       "      <td>40</td>\n",
       "      <td>25</td>\n",
       "      <td>31</td>\n",
       "      <td>0</td>\n",
       "    </tr>\n",
       "    <tr>\n",
       "      <th>c</th>\n",
       "      <td>66</td>\n",
       "      <td>77</td>\n",
       "      <td>26</td>\n",
       "      <td>95</td>\n",
       "      <td>29</td>\n",
       "      <td>27</td>\n",
       "      <td>1</td>\n",
       "    </tr>\n",
       "    <tr>\n",
       "      <th>d</th>\n",
       "      <td>3</td>\n",
       "      <td>76</td>\n",
       "      <td>48</td>\n",
       "      <td>19</td>\n",
       "      <td>44</td>\n",
       "      <td>59</td>\n",
       "      <td>0</td>\n",
       "    </tr>\n",
       "    <tr>\n",
       "      <th>e</th>\n",
       "      <td>71</td>\n",
       "      <td>43</td>\n",
       "      <td>97</td>\n",
       "      <td>56</td>\n",
       "      <td>31</td>\n",
       "      <td>65</td>\n",
       "      <td>2</td>\n",
       "    </tr>\n",
       "    <tr>\n",
       "      <th>f</th>\n",
       "      <td>66</td>\n",
       "      <td>45</td>\n",
       "      <td>79</td>\n",
       "      <td>30</td>\n",
       "      <td>52</td>\n",
       "      <td>67</td>\n",
       "      <td>1</td>\n",
       "    </tr>\n",
       "    <tr>\n",
       "      <th>g</th>\n",
       "      <td>81</td>\n",
       "      <td>70</td>\n",
       "      <td>49</td>\n",
       "      <td>13</td>\n",
       "      <td>91</td>\n",
       "      <td>89</td>\n",
       "      <td>2</td>\n",
       "    </tr>\n",
       "    <tr>\n",
       "      <th>h</th>\n",
       "      <td>60</td>\n",
       "      <td>83</td>\n",
       "      <td>99</td>\n",
       "      <td>10</td>\n",
       "      <td>49</td>\n",
       "      <td>85</td>\n",
       "      <td>0</td>\n",
       "    </tr>\n",
       "  </tbody>\n",
       "</table>\n",
       "</div>"
      ],
      "text/plain": [
       "   duration  playtime  up  favorite  comment  share  duration_section\n",
       "a        79        82  75        99       99      3                 2\n",
       "b        38        89  55        40       25     31                 0\n",
       "c        66        77  26        95       29     27                 1\n",
       "d         3        76  48        19       44     59                 0\n",
       "e        71        43  97        56       31     65                 2\n",
       "f        66        45  79        30       52     67                 1\n",
       "g        81        70  49        13       91     89                 2\n",
       "h        60        83  99        10       49     85                 0"
      ]
     },
     "execution_count": 9,
     "metadata": {},
     "output_type": "execute_result"
    }
   ],
   "source": [
    "df['duration_section'] = pd.qcut(df['duration'], 3, labels=False) # 将duration分箱，构成新的一列\n",
    "df"
   ]
  },
  {
   "cell_type": "code",
   "execution_count": null,
   "metadata": {},
   "outputs": [],
   "source": []
  }
 ],
 "metadata": {
  "kernelspec": {
   "display_name": "Python 3",
   "language": "python",
   "name": "python3"
  },
  "language_info": {
   "codemirror_mode": {
    "name": "ipython",
    "version": 3
   },
   "file_extension": ".py",
   "mimetype": "text/x-python",
   "name": "python",
   "nbconvert_exporter": "python",
   "pygments_lexer": "ipython3",
   "version": "3.8.3"
  }
 },
 "nbformat": 4,
 "nbformat_minor": 4
}
