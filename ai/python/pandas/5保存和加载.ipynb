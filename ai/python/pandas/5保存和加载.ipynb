{
 "cells": [
  {
   "cell_type": "code",
   "execution_count": 1,
   "metadata": {},
   "outputs": [],
   "source": [
    "import pandas as pd\n",
    "import numpy as np"
   ]
  },
  {
   "cell_type": "markdown",
   "metadata": {},
   "source": [
    "# 1.与dict转换"
   ]
  },
  {
   "cell_type": "code",
   "execution_count": 2,
   "metadata": {},
   "outputs": [
    {
     "data": {
      "text/plain": [
       "array([[79, 82, 75, 99, 99,  3],\n",
       "       [38, 89, 55, 40, 25, 31],\n",
       "       [66, 77, 26, 95, 29, 27],\n",
       "       [ 3, 76, 48, 19, 44, 59],\n",
       "       [71, 43, 97, 56, 31, 65],\n",
       "       [66, 45, 79, 30, 52, 67],\n",
       "       [81, 70, 49, 13, 91, 89],\n",
       "       [60, 83, 99, 10, 49, 85]])"
      ]
     },
     "execution_count": 2,
     "metadata": {},
     "output_type": "execute_result"
    }
   ],
   "source": [
    "\"\"\"\n",
    "使用指定values,index,columns的方式创建dataframe\n",
    "下面使用了ord和chr来遍历字母表\n",
    "\"\"\"\n",
    "index = [chr(i) for i in range(ord('a'), ord('a') + 8)]\n",
    "columns = ['duration', 'playtime', 'up', 'favorite', 'comment', 'share']\n",
    "df = pd.DataFrame(np.random.randint(1, 100, (len(index), len(columns))), index=index, columns=columns)\n",
    "df.values"
   ]
  },
  {
   "cell_type": "code",
   "execution_count": 3,
   "metadata": {},
   "outputs": [
    {
     "data": {
      "text/plain": [
       "{'a': {'duration': 79,\n",
       "  'playtime': 82,\n",
       "  'up': 75,\n",
       "  'favorite': 99,\n",
       "  'comment': 99,\n",
       "  'share': 3},\n",
       " 'b': {'duration': 38,\n",
       "  'playtime': 89,\n",
       "  'up': 55,\n",
       "  'favorite': 40,\n",
       "  'comment': 25,\n",
       "  'share': 31},\n",
       " 'c': {'duration': 66,\n",
       "  'playtime': 77,\n",
       "  'up': 26,\n",
       "  'favorite': 95,\n",
       "  'comment': 29,\n",
       "  'share': 27},\n",
       " 'd': {'duration': 3,\n",
       "  'playtime': 76,\n",
       "  'up': 48,\n",
       "  'favorite': 19,\n",
       "  'comment': 44,\n",
       "  'share': 59},\n",
       " 'e': {'duration': 71,\n",
       "  'playtime': 43,\n",
       "  'up': 97,\n",
       "  'favorite': 56,\n",
       "  'comment': 31,\n",
       "  'share': 65},\n",
       " 'f': {'duration': 66,\n",
       "  'playtime': 45,\n",
       "  'up': 79,\n",
       "  'favorite': 30,\n",
       "  'comment': 52,\n",
       "  'share': 67},\n",
       " 'g': {'duration': 81,\n",
       "  'playtime': 70,\n",
       "  'up': 49,\n",
       "  'favorite': 13,\n",
       "  'comment': 91,\n",
       "  'share': 89},\n",
       " 'h': {'duration': 60,\n",
       "  'playtime': 83,\n",
       "  'up': 99,\n",
       "  'favorite': 10,\n",
       "  'comment': 49,\n",
       "  'share': 85}}"
      ]
     },
     "execution_count": 3,
     "metadata": {},
     "output_type": "execute_result"
    }
   ],
   "source": [
    "data_dict = df.to_dict(orient='index') # df -> dict\n",
    "data_dict"
   ]
  },
  {
   "cell_type": "code",
   "execution_count": 4,
   "metadata": {},
   "outputs": [
    {
     "data": {
      "text/html": [
       "<div>\n",
       "<style scoped>\n",
       "    .dataframe tbody tr th:only-of-type {\n",
       "        vertical-align: middle;\n",
       "    }\n",
       "\n",
       "    .dataframe tbody tr th {\n",
       "        vertical-align: top;\n",
       "    }\n",
       "\n",
       "    .dataframe thead th {\n",
       "        text-align: right;\n",
       "    }\n",
       "</style>\n",
       "<table border=\"1\" class=\"dataframe\">\n",
       "  <thead>\n",
       "    <tr style=\"text-align: right;\">\n",
       "      <th></th>\n",
       "      <th>duration</th>\n",
       "      <th>playtime</th>\n",
       "      <th>up</th>\n",
       "      <th>favorite</th>\n",
       "      <th>comment</th>\n",
       "      <th>share</th>\n",
       "    </tr>\n",
       "  </thead>\n",
       "  <tbody>\n",
       "    <tr>\n",
       "      <th>a</th>\n",
       "      <td>79</td>\n",
       "      <td>82</td>\n",
       "      <td>75</td>\n",
       "      <td>99</td>\n",
       "      <td>99</td>\n",
       "      <td>3</td>\n",
       "    </tr>\n",
       "    <tr>\n",
       "      <th>b</th>\n",
       "      <td>38</td>\n",
       "      <td>89</td>\n",
       "      <td>55</td>\n",
       "      <td>40</td>\n",
       "      <td>25</td>\n",
       "      <td>31</td>\n",
       "    </tr>\n",
       "    <tr>\n",
       "      <th>c</th>\n",
       "      <td>66</td>\n",
       "      <td>77</td>\n",
       "      <td>26</td>\n",
       "      <td>95</td>\n",
       "      <td>29</td>\n",
       "      <td>27</td>\n",
       "    </tr>\n",
       "    <tr>\n",
       "      <th>d</th>\n",
       "      <td>3</td>\n",
       "      <td>76</td>\n",
       "      <td>48</td>\n",
       "      <td>19</td>\n",
       "      <td>44</td>\n",
       "      <td>59</td>\n",
       "    </tr>\n",
       "    <tr>\n",
       "      <th>e</th>\n",
       "      <td>71</td>\n",
       "      <td>43</td>\n",
       "      <td>97</td>\n",
       "      <td>56</td>\n",
       "      <td>31</td>\n",
       "      <td>65</td>\n",
       "    </tr>\n",
       "    <tr>\n",
       "      <th>f</th>\n",
       "      <td>66</td>\n",
       "      <td>45</td>\n",
       "      <td>79</td>\n",
       "      <td>30</td>\n",
       "      <td>52</td>\n",
       "      <td>67</td>\n",
       "    </tr>\n",
       "    <tr>\n",
       "      <th>g</th>\n",
       "      <td>81</td>\n",
       "      <td>70</td>\n",
       "      <td>49</td>\n",
       "      <td>13</td>\n",
       "      <td>91</td>\n",
       "      <td>89</td>\n",
       "    </tr>\n",
       "    <tr>\n",
       "      <th>h</th>\n",
       "      <td>60</td>\n",
       "      <td>83</td>\n",
       "      <td>99</td>\n",
       "      <td>10</td>\n",
       "      <td>49</td>\n",
       "      <td>85</td>\n",
       "    </tr>\n",
       "  </tbody>\n",
       "</table>\n",
       "</div>"
      ],
      "text/plain": [
       "   duration  playtime  up  favorite  comment  share\n",
       "a        79        82  75        99       99      3\n",
       "b        38        89  55        40       25     31\n",
       "c        66        77  26        95       29     27\n",
       "d         3        76  48        19       44     59\n",
       "e        71        43  97        56       31     65\n",
       "f        66        45  79        30       52     67\n",
       "g        81        70  49        13       91     89\n",
       "h        60        83  99        10       49     85"
      ]
     },
     "execution_count": 4,
     "metadata": {},
     "output_type": "execute_result"
    }
   ],
   "source": [
    "df_dict = pd.DataFrame.from_dict(data_dict, orient='index') # dict -> df\n",
    "df_dict"
   ]
  },
  {
   "cell_type": "markdown",
   "metadata": {},
   "source": [
    "# 2.csv文件"
   ]
  },
  {
   "cell_type": "code",
   "execution_count": 5,
   "metadata": {},
   "outputs": [],
   "source": [
    "df.to_csv('sample.csv') # 存储为csv文件"
   ]
  },
  {
   "cell_type": "code",
   "execution_count": 6,
   "metadata": {},
   "outputs": [
    {
     "data": {
      "text/plain": [
       "array([[79, 82, 75, 99, 99,  3],\n",
       "       [38, 89, 55, 40, 25, 31],\n",
       "       [66, 77, 26, 95, 29, 27],\n",
       "       [ 3, 76, 48, 19, 44, 59],\n",
       "       [71, 43, 97, 56, 31, 65],\n",
       "       [66, 45, 79, 30, 52, 67],\n",
       "       [81, 70, 49, 13, 91, 89],\n",
       "       [60, 83, 99, 10, 49, 85]])"
      ]
     },
     "execution_count": 6,
     "metadata": {},
     "output_type": "execute_result"
    }
   ],
   "source": [
    "df_csv = pd.read_csv('sample.csv', index_col=0) # 需要指定index_col=0\n",
    "df_csv.values"
   ]
  },
  {
   "cell_type": "markdown",
   "metadata": {},
   "source": [
    "# 2.excel文件"
   ]
  },
  {
   "cell_type": "code",
   "execution_count": 7,
   "metadata": {},
   "outputs": [],
   "source": [
    "df.to_excel('sample.xlsx')"
   ]
  },
  {
   "cell_type": "code",
   "execution_count": 8,
   "metadata": {},
   "outputs": [
    {
     "data": {
      "text/html": [
       "<div>\n",
       "<style scoped>\n",
       "    .dataframe tbody tr th:only-of-type {\n",
       "        vertical-align: middle;\n",
       "    }\n",
       "\n",
       "    .dataframe tbody tr th {\n",
       "        vertical-align: top;\n",
       "    }\n",
       "\n",
       "    .dataframe thead th {\n",
       "        text-align: right;\n",
       "    }\n",
       "</style>\n",
       "<table border=\"1\" class=\"dataframe\">\n",
       "  <thead>\n",
       "    <tr style=\"text-align: right;\">\n",
       "      <th></th>\n",
       "      <th>Unnamed: 0</th>\n",
       "      <th>duration</th>\n",
       "      <th>playtime</th>\n",
       "      <th>up</th>\n",
       "      <th>favorite</th>\n",
       "      <th>comment</th>\n",
       "      <th>share</th>\n",
       "    </tr>\n",
       "  </thead>\n",
       "  <tbody>\n",
       "    <tr>\n",
       "      <th>0</th>\n",
       "      <td>a</td>\n",
       "      <td>79</td>\n",
       "      <td>82</td>\n",
       "      <td>75</td>\n",
       "      <td>99</td>\n",
       "      <td>99</td>\n",
       "      <td>3</td>\n",
       "    </tr>\n",
       "    <tr>\n",
       "      <th>1</th>\n",
       "      <td>b</td>\n",
       "      <td>38</td>\n",
       "      <td>89</td>\n",
       "      <td>55</td>\n",
       "      <td>40</td>\n",
       "      <td>25</td>\n",
       "      <td>31</td>\n",
       "    </tr>\n",
       "    <tr>\n",
       "      <th>2</th>\n",
       "      <td>c</td>\n",
       "      <td>66</td>\n",
       "      <td>77</td>\n",
       "      <td>26</td>\n",
       "      <td>95</td>\n",
       "      <td>29</td>\n",
       "      <td>27</td>\n",
       "    </tr>\n",
       "    <tr>\n",
       "      <th>3</th>\n",
       "      <td>d</td>\n",
       "      <td>3</td>\n",
       "      <td>76</td>\n",
       "      <td>48</td>\n",
       "      <td>19</td>\n",
       "      <td>44</td>\n",
       "      <td>59</td>\n",
       "    </tr>\n",
       "    <tr>\n",
       "      <th>4</th>\n",
       "      <td>e</td>\n",
       "      <td>71</td>\n",
       "      <td>43</td>\n",
       "      <td>97</td>\n",
       "      <td>56</td>\n",
       "      <td>31</td>\n",
       "      <td>65</td>\n",
       "    </tr>\n",
       "    <tr>\n",
       "      <th>5</th>\n",
       "      <td>f</td>\n",
       "      <td>66</td>\n",
       "      <td>45</td>\n",
       "      <td>79</td>\n",
       "      <td>30</td>\n",
       "      <td>52</td>\n",
       "      <td>67</td>\n",
       "    </tr>\n",
       "    <tr>\n",
       "      <th>6</th>\n",
       "      <td>g</td>\n",
       "      <td>81</td>\n",
       "      <td>70</td>\n",
       "      <td>49</td>\n",
       "      <td>13</td>\n",
       "      <td>91</td>\n",
       "      <td>89</td>\n",
       "    </tr>\n",
       "    <tr>\n",
       "      <th>7</th>\n",
       "      <td>h</td>\n",
       "      <td>60</td>\n",
       "      <td>83</td>\n",
       "      <td>99</td>\n",
       "      <td>10</td>\n",
       "      <td>49</td>\n",
       "      <td>85</td>\n",
       "    </tr>\n",
       "  </tbody>\n",
       "</table>\n",
       "</div>"
      ],
      "text/plain": [
       "  Unnamed: 0  duration  playtime  up  favorite  comment  share\n",
       "0          a        79        82  75        99       99      3\n",
       "1          b        38        89  55        40       25     31\n",
       "2          c        66        77  26        95       29     27\n",
       "3          d         3        76  48        19       44     59\n",
       "4          e        71        43  97        56       31     65\n",
       "5          f        66        45  79        30       52     67\n",
       "6          g        81        70  49        13       91     89\n",
       "7          h        60        83  99        10       49     85"
      ]
     },
     "execution_count": 8,
     "metadata": {},
     "output_type": "execute_result"
    }
   ],
   "source": [
    "df_excel = pd.read_excel('sample.xlsx') # 若不指定index_col=0，会多出一行'Unnamed: 0'\n",
    "df_excel"
   ]
  },
  {
   "cell_type": "code",
   "execution_count": null,
   "metadata": {},
   "outputs": [],
   "source": []
  }
 ],
 "metadata": {
  "kernelspec": {
   "display_name": "Python 3",
   "language": "python",
   "name": "python3"
  },
  "language_info": {
   "codemirror_mode": {
    "name": "ipython",
    "version": 3
   },
   "file_extension": ".py",
   "mimetype": "text/x-python",
   "name": "python",
   "nbconvert_exporter": "python",
   "pygments_lexer": "ipython3",
   "version": "3.8.3"
  }
 },
 "nbformat": 4,
 "nbformat_minor": 4
}
