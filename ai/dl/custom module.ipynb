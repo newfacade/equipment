{
 "cells": [
  {
   "cell_type": "markdown",
   "metadata": {},
   "source": [
    "# custom module"
   ]
  },
  {
   "cell_type": "code",
   "execution_count": 1,
   "metadata": {},
   "outputs": [],
   "source": [
    "import torch\n",
    "from torch import nn\n",
    "from torch.utils import data\n",
    "import numpy as np"
   ]
  },
  {
   "cell_type": "markdown",
   "metadata": {},
   "source": [
    "## 1.定义模型\n",
    "\n",
    "我们的目标是使用前n天的(click, pv)来预测新一天的ctr:<br>\n",
    "$$\\tilde{ctr}_{n + 1} = \\frac{\\sum_{i=1}^{n}click_{i}*param_{i} }{\\sum_{i=1}^{n}pv_{i} * param_{i} } $$\n",
    "所求为$param_{i}$。在ctr很稳定的理想状态，$param_{i}=1$。<br>\n",
    "模型图示如下："
   ]
  },
  {
   "cell_type": "markdown",
   "metadata": {},
   "source": [
    "![jupyter](./custom_module.svg)"
   ]
  },
  {
   "cell_type": "code",
   "execution_count": 2,
   "metadata": {},
   "outputs": [],
   "source": [
    "class TimeDecayModule(nn.Module):\n",
    "    def __init__(self, num_input):\n",
    "        super(TimeDecayModule, self).__init__()\n",
    "        self.linear = nn.Linear(num_input, 1, bias=False)\n",
    "        \n",
    "    def forward(self, x):\n",
    "        click = x[:, 0, :]\n",
    "        pv = x[:, 1, :]\n",
    "        weighted_click = self.linear(click)\n",
    "        weighted_pv = self.linear(pv)\n",
    "        return weighted_click / weighted_pv"
   ]
  },
  {
   "cell_type": "markdown",
   "metadata": {},
   "source": [
    "模型参数初始化为1"
   ]
  },
  {
   "cell_type": "code",
   "execution_count": 3,
   "metadata": {},
   "outputs": [
    {
     "data": {
      "text/plain": [
       "Parameter containing:\n",
       "tensor([[1., 1., 1., 1., 1., 1., 1., 1., 1., 1., 1., 1., 1., 1., 1., 1., 1., 1.,\n",
       "         1., 1.]], requires_grad=True)"
      ]
     },
     "execution_count": 3,
     "metadata": {},
     "output_type": "execute_result"
    }
   ],
   "source": [
    "model = TimeDecayModule(20)\n",
    "torch.nn.init.ones_(model.linear.weight)"
   ]
  },
  {
   "cell_type": "markdown",
   "metadata": {},
   "source": [
    "## 2.准备训练所需四要素\n",
    "\n",
    "1、模型 model<br>\n",
    "2、数据 train_iter<br>\n",
    "3、损失函数 loss<br>\n",
    "4、优化器 optimizer"
   ]
  },
  {
   "cell_type": "code",
   "execution_count": 4,
   "metadata": {},
   "outputs": [],
   "source": [
    "x_tensor = torch.tensor(np.load(\"custom_x.npy\"), dtype=torch.float32)\n",
    "y_tensor = torch.tensor(np.load(\"custom_y.npy\").reshape(-1, 1), dtype=torch.float32)\n",
    "data_set = data.TensorDataset(x_tensor, y_tensor)\n",
    "train_iter = data.DataLoader(data_set, batch_size=10, shuffle=True)\n",
    "loss = nn.MSELoss()\n",
    "optimizer = torch.optim.SGD(model.parameters(), lr=0.3)"
   ]
  },
  {
   "cell_type": "markdown",
   "metadata": {},
   "source": [
    "## 3.训练"
   ]
  },
  {
   "cell_type": "code",
   "execution_count": 5,
   "metadata": {},
   "outputs": [
    {
     "name": "stdout",
     "output_type": "stream",
     "text": [
      "epoch 10: 0.0005044274730607867\n",
      "epoch 20: 0.0005039040697738528\n",
      "epoch 30: 0.0005026823491789401\n",
      "epoch 40: 0.000502226350363344\n",
      "epoch 50: 0.0005011449684388936\n",
      "epoch 60: 0.0004997661453671753\n",
      "epoch 70: 0.0004992382600903511\n",
      "epoch 80: 0.0004982589744031429\n",
      "epoch 90: 0.0004970498266629875\n",
      "epoch 100: 0.0004964246181771159\n",
      "epoch 110: 0.0004960703663527966\n",
      "epoch 120: 0.0004945984692312777\n",
      "epoch 130: 0.0004938296624459326\n",
      "epoch 140: 0.0004925548564642668\n",
      "epoch 150: 0.0004922162042930722\n",
      "epoch 160: 0.0004907636321149766\n",
      "epoch 170: 0.0004895849851891398\n",
      "epoch 180: 0.0004888690309599042\n",
      "epoch 190: 0.0004876459133811295\n",
      "epoch 200: 0.00048713872092776\n"
     ]
    }
   ],
   "source": [
    "epoch_num = 200\n",
    "for epoch in range(epoch_num):\n",
    "    total_loss = 0.0\n",
    "    total_num = 0.0\n",
    "    for x, y in train_iter:\n",
    "        y_hat = model(x)\n",
    "        l = loss(y_hat, y)\n",
    "        optimizer.zero_grad()\n",
    "        l.backward()\n",
    "        optimizer.step()\n",
    "        total_loss += l\n",
    "        total_num += y.shape[0]\n",
    "    if (epoch + 1) % 10 == 0:\n",
    "        print(f\"epoch {epoch + 1}: {total_loss / total_num}\")"
   ]
  },
  {
   "cell_type": "markdown",
   "metadata": {},
   "source": [
    "## 4.提取所需参数"
   ]
  },
  {
   "cell_type": "code",
   "execution_count": 6,
   "metadata": {},
   "outputs": [
    {
     "name": "stdout",
     "output_type": "stream",
     "text": [
      "Parameter containing:\n",
      "tensor([[1.2367, 1.3100, 0.9641, 1.3109, 1.3259, 1.3914, 1.4736, 1.1585, 1.1422,\n",
      "         1.0964, 0.9547, 0.7478, 0.6083, 0.5517, 0.4028, 0.7264, 0.3162, 0.5645,\n",
      "         0.4895, 0.9492]], requires_grad=True)\n"
     ]
    }
   ],
   "source": [
    "for p in model.parameters():\n",
    "    print(p)"
   ]
  },
  {
   "cell_type": "code",
   "execution_count": null,
   "metadata": {},
   "outputs": [],
   "source": []
  }
 ],
 "metadata": {
  "kernelspec": {
   "display_name": "Python 3",
   "language": "python",
   "name": "python3"
  },
  "language_info": {
   "codemirror_mode": {
    "name": "ipython",
    "version": 3
   },
   "file_extension": ".py",
   "mimetype": "text/x-python",
   "name": "python",
   "nbconvert_exporter": "python",
   "pygments_lexer": "ipython3",
   "version": "3.7.6"
  }
 },
 "nbformat": 4,
 "nbformat_minor": 4
}
