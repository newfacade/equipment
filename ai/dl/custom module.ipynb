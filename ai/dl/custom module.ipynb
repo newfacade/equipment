{
 "cells": [
  {
   "cell_type": "markdown",
   "metadata": {},
   "source": [
    "# custom module"
   ]
  },
  {
   "cell_type": "code",
   "execution_count": 1,
   "metadata": {},
   "outputs": [],
   "source": [
    "%matplotlib inline\n",
    "import torch\n",
    "from torch import nn\n",
    "from torch.utils import data\n",
    "import numpy as np\n",
    "import matplotlib.pyplot as plt"
   ]
  },
  {
   "cell_type": "markdown",
   "metadata": {},
   "source": [
    "## 1.定义模型\n",
    "\n",
    "我们的目标是使用前n天的(click, pv)来预测新一天的ctr:<br>\n",
    "$$\\tilde{ctr}_{n + 1} = \\frac{\\sum_{i=1}^{n}click_{i}*param_{i} }{\\sum_{i=1}^{n}pv_{i} * param_{i} } $$\n",
    "所求为$param_{i}$。在ctr很稳定的理想状态，$param_{i}=1$。<br>\n",
    "模型图示如下："
   ]
  },
  {
   "cell_type": "markdown",
   "metadata": {},
   "source": [
    "![jupyter](./custom_module.svg)"
   ]
  },
  {
   "cell_type": "code",
   "execution_count": 2,
   "metadata": {},
   "outputs": [],
   "source": [
    "class TimeDecayModule(nn.Module):\n",
    "    def __init__(self, num_input):\n",
    "        super(TimeDecayModule, self).__init__()\n",
    "        self.linear = nn.Linear(num_input, 1, bias=False)\n",
    "        \n",
    "    def forward(self, x):\n",
    "        click = x[:, 0, :]\n",
    "        pv = x[:, 1, :]\n",
    "        weighted_click = self.linear(click)\n",
    "        weighted_pv = self.linear(pv)\n",
    "        return weighted_click / weighted_pv"
   ]
  },
  {
   "cell_type": "markdown",
   "metadata": {},
   "source": [
    "模型参数初始化为1"
   ]
  },
  {
   "cell_type": "code",
   "execution_count": 3,
   "metadata": {},
   "outputs": [
    {
     "data": {
      "text/plain": [
       "Parameter containing:\n",
       "tensor([[1., 1., 1., 1., 1., 1., 1., 1., 1., 1., 1., 1., 1., 1., 1., 1., 1., 1.,\n",
       "         1., 1., 1., 1., 1., 1., 1., 1., 1., 1., 1., 1., 1., 1., 1., 1., 1., 1.,\n",
       "         1., 1., 1., 1., 1., 1., 1., 1., 1., 1., 1., 1., 1., 1., 1., 1., 1., 1.,\n",
       "         1., 1., 1., 1., 1., 1., 1., 1., 1., 1., 1., 1., 1., 1., 1., 1., 1., 1.,\n",
       "         1., 1., 1., 1., 1., 1., 1., 1., 1., 1., 1., 1., 1., 1., 1., 1., 1., 1.,\n",
       "         1., 1., 1., 1., 1., 1., 1., 1., 1., 1.]], requires_grad=True)"
      ]
     },
     "execution_count": 3,
     "metadata": {},
     "output_type": "execute_result"
    }
   ],
   "source": [
    "days = 100\n",
    "model = TimeDecayModule(days)\n",
    "torch.nn.init.ones_(model.linear.weight)"
   ]
  },
  {
   "cell_type": "markdown",
   "metadata": {},
   "source": [
    "## 2.准备训练所需四要素\n",
    "\n",
    "1、模型 model<br>\n",
    "2、数据 train_iter<br>\n",
    "3、损失函数 loss<br>\n",
    "4、优化器 optimizer"
   ]
  },
  {
   "cell_type": "code",
   "execution_count": 4,
   "metadata": {},
   "outputs": [],
   "source": [
    "x_tensor = torch.tensor(np.load(\"time_x.npy\"), dtype=torch.float32)\n",
    "y_tensor = torch.tensor(np.load(\"time_y.npy\").reshape(-1, 1), dtype=torch.float32)\n",
    "data_set = data.TensorDataset(x_tensor, y_tensor)\n",
    "train_iter = data.DataLoader(data_set, batch_size=32, shuffle=True)\n",
    "loss = nn.MSELoss()\n",
    "optimizer = torch.optim.SGD(model.parameters(), lr=1.0)"
   ]
  },
  {
   "cell_type": "markdown",
   "metadata": {},
   "source": [
    "## 3.训练"
   ]
  },
  {
   "cell_type": "code",
   "execution_count": 5,
   "metadata": {},
   "outputs": [
    {
     "name": "stdout",
     "output_type": "stream",
     "text": [
      "epoch 1: 0.00032145093427971005\n",
      "epoch 50: 0.00031676364596933126\n",
      "epoch 100: 0.00031136933830566704\n",
      "epoch 150: 0.0003300468379165977\n",
      "epoch 200: 0.00030424489523284137\n",
      "epoch 250: 0.00033668873948045075\n",
      "epoch 300: 0.00029792884015478194\n",
      "epoch 350: 0.0003036640409845859\n",
      "epoch 400: 0.0002891311305575073\n",
      "epoch 450: 0.00028587327688001096\n",
      "epoch 500: 0.00028424832271412015\n",
      "epoch 550: 0.00027554325060918927\n",
      "epoch 600: 0.00027035860694013536\n"
     ]
    }
   ],
   "source": [
    "epoch_num = 600\n",
    "for epoch in range(epoch_num):\n",
    "    total_loss = 0.0\n",
    "    total_num = 0.0\n",
    "    for x, y in train_iter:\n",
    "        y_hat = model(x)\n",
    "        l = loss(y_hat, y)\n",
    "        optimizer.zero_grad()\n",
    "        l.backward()\n",
    "        optimizer.step()\n",
    "        total_loss += l\n",
    "        total_num += y.shape[0]\n",
    "    if (epoch + 1) % 50 == 0 or epoch == 0:\n",
    "        print(f\"epoch {epoch + 1}: {total_loss / total_num}\")"
   ]
  },
  {
   "cell_type": "markdown",
   "metadata": {},
   "source": [
    "## 4.提取所需参数"
   ]
  },
  {
   "cell_type": "code",
   "execution_count": 6,
   "metadata": {},
   "outputs": [
    {
     "name": "stdout",
     "output_type": "stream",
     "text": [
      "Parameter containing:\n",
      "tensor([[ 2.5187,  1.9661,  1.4907,  2.0292,  1.9268,  1.4533,  1.6813,  1.9801,\n",
      "          1.8279,  1.6340,  1.7006,  1.5492,  1.6142,  1.5057,  1.3031,  0.7733,\n",
      "          1.5770,  1.3393,  1.3662,  1.2160,  1.5011,  1.3375,  1.5092,  1.7459,\n",
      "          1.4242,  1.1028,  1.2313,  0.9944,  0.8967,  1.1804,  1.1700,  0.9552,\n",
      "          1.1063,  1.1845,  1.0136,  0.9267,  0.8871,  0.8150,  0.8188,  0.6272,\n",
      "          0.9336,  0.8235,  0.6628,  0.7396,  1.1852,  1.0332,  0.5671,  0.6690,\n",
      "          1.3212,  0.8933,  0.8481,  0.7268,  0.8247,  0.6213,  0.5126,  0.3469,\n",
      "          0.6676,  0.6508,  0.9527,  0.7519,  0.8206,  1.0801,  0.4420,  0.0613,\n",
      "          0.0350,  0.0604, -0.1553,  0.0754, -0.0073, -0.0791, -0.0338, -0.0661,\n",
      "          0.1553, -0.0758,  0.4089,  0.2081,  0.3797,  0.3082,  0.2457,  0.2390,\n",
      "          0.3551,  0.6587,  0.2773,  0.6271,  0.3397,  0.2931,  0.1412,  0.3665,\n",
      "          0.2797,  0.1152,  0.0542,  0.6890,  0.1270, -0.0852,  0.1044,  0.2321,\n",
      "          0.2777,  0.0092,  0.1226,  0.0038]], requires_grad=True)\n"
     ]
    }
   ],
   "source": [
    "params = None\n",
    "for p in model.parameters():\n",
    "    print(p)\n",
    "    params = p"
   ]
  },
  {
   "cell_type": "code",
   "execution_count": 7,
   "metadata": {},
   "outputs": [
    {
     "data": {
      "text/plain": [
       "Parameter containing:\n",
       "tensor([[ 2.5187,  1.9661,  1.4907,  2.0292,  1.9268,  1.4533,  1.6813,  1.9801,\n",
       "          1.8279,  1.6340,  1.7006,  1.5492,  1.6142,  1.5057,  1.3031,  0.7733,\n",
       "          1.5770,  1.3393,  1.3662,  1.2160,  1.5011,  1.3375,  1.5092,  1.7459,\n",
       "          1.4242,  1.1028,  1.2313,  0.9944,  0.8967,  1.1804,  1.1700,  0.9552,\n",
       "          1.1063,  1.1845,  1.0136,  0.9267,  0.8871,  0.8150,  0.8188,  0.6272,\n",
       "          0.9336,  0.8235,  0.6628,  0.7396,  1.1852,  1.0332,  0.5671,  0.6690,\n",
       "          1.3212,  0.8933,  0.8481,  0.7268,  0.8247,  0.6213,  0.5126,  0.3469,\n",
       "          0.6676,  0.6508,  0.9527,  0.7519,  0.8206,  1.0801,  0.4420,  0.0613,\n",
       "          0.0350,  0.0604, -0.1553,  0.0754, -0.0073, -0.0791, -0.0338, -0.0661,\n",
       "          0.1553, -0.0758,  0.4089,  0.2081,  0.3797,  0.3082,  0.2457,  0.2390,\n",
       "          0.3551,  0.6587,  0.2773,  0.6271,  0.3397,  0.2931,  0.1412,  0.3665,\n",
       "          0.2797,  0.1152,  0.0542,  0.6890,  0.1270, -0.0852,  0.1044,  0.2321,\n",
       "          0.2777,  0.0092,  0.1226,  0.0038]], requires_grad=True)"
      ]
     },
     "execution_count": 7,
     "metadata": {},
     "output_type": "execute_result"
    }
   ],
   "source": [
    "params"
   ]
  },
  {
   "cell_type": "code",
   "execution_count": 8,
   "metadata": {},
   "outputs": [
    {
     "data": {
      "text/plain": [
       "[<matplotlib.lines.Line2D at 0x127d7d610>]"
      ]
     },
     "execution_count": 8,
     "metadata": {},
     "output_type": "execute_result"
    },
    {
     "data": {
      "image/png": "[encoded data removed]",
      "text/plain": [
       "<Figure size 432x288 with 1 Axes>"
      ]
     },
     "metadata": {
      "needs_background": "light"
     },
     "output_type": "display_data"
    }
   ],
   "source": [
    "p_array = params.data.numpy()\n",
    "p_array = p_array.reshape(-1)\n",
    "p_array = p_array / p_array[0]\n",
    "plt.plot(np.arange(days), p_array)\n",
    "plt.plot(np.arange(days), [0.95 ** i for i in range(days)])"
   ]
  },
  {
   "cell_type": "code",
   "execution_count": null,
   "metadata": {},
   "outputs": [],
   "source": []
  }
 ],
 "metadata": {
  "kernelspec": {
   "display_name": "Python 3",
   "language": "python",
   "name": "python3"
  },
  "language_info": {
   "codemirror_mode": {
    "name": "ipython",
    "version": 3
   },
   "file_extension": ".py",
   "mimetype": "text/x-python",
   "name": "python",
   "nbconvert_exporter": "python",
   "pygments_lexer": "ipython3",
   "version": "3.7.6"
  }
 },
 "nbformat": 4,
 "nbformat_minor": 4
}
