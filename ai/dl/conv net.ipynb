{
 "cells": [
  {
   "cell_type": "markdown",
   "metadata": {},
   "source": [
    "# conv net"
   ]
  },
  {
   "cell_type": "code",
   "execution_count": 1,
   "metadata": {},
   "outputs": [],
   "source": [
    "%matplotlib inline\n",
    "import torch\n",
    "from torch import nn\n",
    "from torch.utils import data\n",
    "from torchvision import datasets, transforms\n",
    "import matplotlib.pyplot as plt"
   ]
  },
  {
   "cell_type": "markdown",
   "metadata": {},
   "source": [
    "## 1.load data"
   ]
  },
  {
   "cell_type": "code",
   "execution_count": 2,
   "metadata": {},
   "outputs": [
    {
     "data": {
      "text/plain": [
       "torch.Size([1, 28, 28])"
      ]
     },
     "execution_count": 2,
     "metadata": {},
     "output_type": "execute_result"
    }
   ],
   "source": [
    "train_set = datasets.FashionMNIST(root='./data', train=True, transform=transforms.ToTensor(), download=True)\n",
    "test_set = datasets.FashionMNIST(root='./data', train=False, transform=transforms.ToTensor())\n",
    "len(train_set), len(test_set)\n",
    "train_set[0][0].shape"
   ]
  },
  {
   "cell_type": "code",
   "execution_count": 3,
   "metadata": {},
   "outputs": [],
   "source": [
    "batch_size = 128\n",
    "train_iter = data.DataLoader(train_set, batch_size=batch_size, shuffle=True, num_workers=4)\n",
    "test_iter = data.DataLoader(test_set, batch_size=batch_size, shuffle=False, num_workers=2)"
   ]
  },
  {
   "cell_type": "markdown",
   "metadata": {},
   "source": [
    "## 2.model\n",
    "\n",
    "use vgg blocks<br>\n",
    "一个具有num_convs个卷积层，输入channels为input_channels,输出channels为output_channels的vgg_block"
   ]
  },
  {
   "cell_type": "code",
   "execution_count": 4,
   "metadata": {},
   "outputs": [],
   "source": [
    "def vgg_block(num_convs, input_channels, output_channels):\n",
    "    layers = []\n",
    "    for _ in range(num_convs):\n",
    "        layers.append(nn.Conv2d(input_channels, output_channels, kernel_size=3, padding=1))\n",
    "        layers.append(nn.ReLU())\n",
    "        input_channels = output_channels\n",
    "    layers.append(nn.MaxPool2d(kernel_size=2, stride=2))\n",
    "    return nn.Sequential(*layers)"
   ]
  },
  {
   "cell_type": "markdown",
   "metadata": {},
   "source": [
    "construct vgg network"
   ]
  },
  {
   "cell_type": "code",
   "execution_count": 5,
   "metadata": {},
   "outputs": [
    {
     "name": "stdout",
     "output_type": "stream",
     "text": [
      "torch.Size([1, 784])\n",
      "torch.Size([1, 128])\n",
      "torch.Size([1, 128])\n",
      "torch.Size([1, 10])\n"
     ]
    }
   ],
   "source": [
    "net = nn.Sequential(vgg_block(2, 1, 64),\n",
    "                    vgg_block(2, 64, 128),\n",
    "                    nn.Flatten(),\n",
    "                    nn.Linear(128 * 7 * 7, 512), nn.ReLU(), nn.Dropout(0.5),\n",
    "                    nn.Linear(512, 512), nn.ReLU(), nn.Dropout(0.5),\n",
    "                    nn.Linear(512, 10))\n",
    "net = nn.Sequential(nn.Flatten(), nn.Linear(784, 128), nn.ReLU(), nn.Linear(128, 10))\n",
    "x = torch.randn(size=(1, 1, 28, 28))\n",
    "for blk in net:\n",
    "    x = blk(x)\n",
    "    print(x.shape)"
   ]
  },
  {
   "cell_type": "code",
   "execution_count": 6,
   "metadata": {},
   "outputs": [],
   "source": [
    "loss_fn = nn.CrossEntropyLoss()\n",
    "optimizer = torch.optim.Adam(net.parameters(), lr=0.05)"
   ]
  },
  {
   "cell_type": "markdown",
   "metadata": {},
   "source": [
    "# 3.training\n",
    "\n",
    "与fully connected net一样"
   ]
  },
  {
   "cell_type": "code",
   "execution_count": 7,
   "metadata": {},
   "outputs": [
    {
     "data": {
      "text/plain": [
       "device(type='cpu')"
      ]
     },
     "execution_count": 7,
     "metadata": {},
     "output_type": "execute_result"
    }
   ],
   "source": [
    "def accuracy(data_iter, model):\n",
    "    num = 0\n",
    "    accurate_num = 0\n",
    "    for x, y in data_iter:\n",
    "        y_pred = model(x)\n",
    "        accurate_num += torch.sum(torch.argmax(y_pred, dim=1) == y).item()\n",
    "        num += y.shape[0]\n",
    "    return accurate_num / num \n",
    "\n",
    "device = torch.device(\"cuda:0\") if torch.cuda.is_available() else torch.device(\"cpu\")\n",
    "device"
   ]
  },
  {
   "cell_type": "code",
   "execution_count": 8,
   "metadata": {},
   "outputs": [
    {
     "name": "stdout",
     "output_type": "stream",
     "text": [
      "epoch 5 loss: 296.6308288574219, train accuracy: 0.6940666666666667, test accuracy: 0.6811\n",
      "epoch 10 loss: 290.6116638183594, train accuracy: 0.73845, test accuracy: 0.7202\n",
      "epoch 15 loss: 293.2864685058594, train accuracy: 0.7643, test accuracy: 0.7518\n",
      "epoch 20 loss: 312.1535339355469, train accuracy: 0.7634, test accuracy: 0.7432\n",
      "epoch 25 loss: 294.8633728027344, train accuracy: 0.7646833333333334, test accuracy: 0.7469\n",
      "epoch 30 loss: 279.1613464355469, train accuracy: 0.7450333333333333, test accuracy: 0.7291\n",
      "epoch 35 loss: 300.5340270996094, train accuracy: 0.74895, test accuracy: 0.7327\n",
      "epoch 40 loss: 270.14532470703125, train accuracy: 0.7614, test accuracy: 0.7412\n",
      "epoch 45 loss: 315.07763671875, train accuracy: 0.74265, test accuracy: 0.7223\n",
      "epoch 50 loss: 277.7186584472656, train accuracy: 0.7638166666666667, test accuracy: 0.7432\n",
      "epoch 55 loss: 296.4124755859375, train accuracy: 0.77085, test accuracy: 0.749\n",
      "epoch 60 loss: 266.8048095703125, train accuracy: 0.7693333333333333, test accuracy: 0.7457\n",
      "epoch 65 loss: 354.5877380371094, train accuracy: 0.7223, test accuracy: 0.7028\n",
      "epoch 70 loss: 273.52996826171875, train accuracy: 0.7581, test accuracy: 0.7368\n",
      "epoch 75 loss: 299.06689453125, train accuracy: 0.75235, test accuracy: 0.7334\n",
      "epoch 80 loss: 285.19317626953125, train accuracy: 0.7471333333333333, test accuracy: 0.7271\n",
      "epoch 85 loss: 275.30511474609375, train accuracy: 0.7546, test accuracy: 0.7331\n",
      "epoch 90 loss: 329.0149230957031, train accuracy: 0.7668333333333334, test accuracy: 0.7447\n",
      "epoch 95 loss: 305.995849609375, train accuracy: 0.75065, test accuracy: 0.7301\n",
      "epoch 100 loss: 285.4794921875, train accuracy: 0.7707166666666667, test accuracy: 0.7445\n"
     ]
    }
   ],
   "source": [
    "num_epochs = 100\n",
    "net = net.to(device)\n",
    "for epoch in range(num_epochs):\n",
    "    l = 0.0\n",
    "    for x, y in train_iter:\n",
    "        x, y = x.to(device), y.to(device)\n",
    "        y_pred = net(x)\n",
    "        loss = loss_fn(y_pred, y)\n",
    "        optimizer.zero_grad()\n",
    "        loss.backward()\n",
    "        optimizer.step()\n",
    "        l += loss\n",
    "    if (epoch + 1) % 5 == 0:\n",
    "        print(f\"epoch {epoch + 1} loss: {l}, train accuracy: {accuracy(train_iter, net)}, test accuracy: {accuracy(test_iter, net)}\")"
   ]
  },
  {
   "cell_type": "markdown",
   "metadata": {},
   "source": [
    "# 4.testing"
   ]
  },
  {
   "cell_type": "code",
   "execution_count": 9,
   "metadata": {},
   "outputs": [
    {
     "name": "stdout",
     "output_type": "stream",
     "text": [
      "0.7445\n"
     ]
    }
   ],
   "source": [
    "print(accuracy(test_iter, net))"
   ]
  }
 ],
 "metadata": {
  "kernelspec": {
   "display_name": "Python 3",
   "language": "python",
   "name": "python3"
  },
  "language_info": {
   "codemirror_mode": {
    "name": "ipython",
    "version": 3
   },
   "file_extension": ".py",
   "mimetype": "text/x-python",
   "name": "python",
   "nbconvert_exporter": "python",
   "pygments_lexer": "ipython3",
   "version": "3.7.6"
  }
 },
 "nbformat": 4,
 "nbformat_minor": 4
}
