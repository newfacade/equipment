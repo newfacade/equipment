{
 "cells": [
  {
   "cell_type": "markdown",
   "metadata": {},
   "source": [
    "# fully connected net"
   ]
  },
  {
   "cell_type": "code",
   "execution_count": 1,
   "metadata": {},
   "outputs": [],
   "source": [
    "import torch\n",
    "from torch import nn\n",
    "from torch.utils import data\n",
    "from torchvision import datasets, transforms"
   ]
  },
  {
   "cell_type": "markdown",
   "metadata": {},
   "source": [
    "## 1.load data\n",
    "\n",
    "利用torchvision.datasets加载mnist数据集<br>\n",
    "只需download一次"
   ]
  },
  {
   "cell_type": "code",
   "execution_count": 2,
   "metadata": {},
   "outputs": [],
   "source": [
    "train_set = datasets.MNIST(root='./data', train=True, transform=transforms.ToTensor(), download=True)\n",
    "test_set = datasets.MNIST(root='./data', train=False, transform=transforms.ToTensor())"
   ]
  },
  {
   "cell_type": "markdown",
   "metadata": {},
   "source": [
    "利用torch.utils.data.DataLoader形成可迭代数据"
   ]
  },
  {
   "cell_type": "code",
   "execution_count": 3,
   "metadata": {},
   "outputs": [],
   "source": [
    "batch_size = 128\n",
    "train_iter = data.DataLoader(train_set, batch_size=batch_size, shuffle=True, num_workers=4)\n",
    "test_iter = data.DataLoader(test_set, batch_size=batch_size, shuffle=False, num_workers=2)"
   ]
  },
  {
   "cell_type": "markdown",
   "metadata": {},
   "source": [
    "## 2.model\n",
    "\n",
    "定义模型"
   ]
  },
  {
   "cell_type": "code",
   "execution_count": 4,
   "metadata": {},
   "outputs": [],
   "source": [
    "net = nn.Sequential(nn.Flatten(),\n",
    "                    nn.Linear(784, 128),\n",
    "                    nn.ReLU(),\n",
    "                    nn.Linear(128, 10))"
   ]
  },
  {
   "cell_type": "markdown",
   "metadata": {},
   "source": [
    "定义策略（损失函数）和算法（优化器）"
   ]
  },
  {
   "cell_type": "code",
   "execution_count": 5,
   "metadata": {},
   "outputs": [],
   "source": [
    "loss_fn = nn.CrossEntropyLoss()\n",
    "optimizer = torch.optim.SGD(net.parameters(), lr=0.1)"
   ]
  },
  {
   "cell_type": "markdown",
   "metadata": {},
   "source": [
    "## 3. training"
   ]
  },
  {
   "cell_type": "markdown",
   "metadata": {},
   "source": [
    "计算模型准确性的函数"
   ]
  },
  {
   "cell_type": "code",
   "execution_count": 6,
   "metadata": {},
   "outputs": [],
   "source": [
    "def accuracy(data_iter, model):\n",
    "    num = 0\n",
    "    accurate_num = 0\n",
    "    for x, y in data_iter:\n",
    "        y_pred = model(x)\n",
    "        accurate_num += torch.sum(torch.argmax(y_pred, dim=1) == y).item()\n",
    "        num += y.shape[0]\n",
    "    return accurate_num / num "
   ]
  },
  {
   "cell_type": "markdown",
   "metadata": {},
   "source": [
    "训练"
   ]
  },
  {
   "cell_type": "code",
   "execution_count": 7,
   "metadata": {},
   "outputs": [
    {
     "name": "stdout",
     "output_type": "stream",
     "text": [
      "epoch 10 loss: 50.840240478515625, train accuracy: 0.97255, test accuracy: 0.9669\n",
      "epoch 20 loss: 26.60177993774414, train accuracy: 0.9862166666666666, test accuracy: 0.9764\n",
      "epoch 30 loss: 16.633323669433594, train accuracy: 0.9918666666666667, test accuracy: 0.9784\n",
      "epoch 40 loss: 11.172441482543945, train accuracy: 0.9962833333333333, test accuracy: 0.9785\n",
      "epoch 50 loss: 7.783447265625, train accuracy: 0.99825, test accuracy: 0.9788\n",
      "epoch 60 loss: 5.630319595336914, train accuracy: 0.9989333333333333, test accuracy: 0.9791\n",
      "epoch 70 loss: 4.1936116218566895, train accuracy: 0.9995333333333334, test accuracy: 0.9804\n",
      "epoch 80 loss: 3.2499313354492188, train accuracy: 0.9997833333333334, test accuracy: 0.9803\n",
      "epoch 90 loss: 2.60109281539917, train accuracy: 0.99985, test accuracy: 0.9799\n",
      "epoch 100 loss: 2.1415786743164062, train accuracy: 0.9999333333333333, test accuracy: 0.9804\n"
     ]
    }
   ],
   "source": [
    "num_epochs = 100\n",
    "for epoch in range(num_epochs):\n",
    "    l = 0.0\n",
    "    for x, y in train_iter:\n",
    "        y_pred = net(x)\n",
    "        loss = loss_fn(y_pred, y)\n",
    "        optimizer.zero_grad()\n",
    "        loss.backward()\n",
    "        optimizer.step()\n",
    "        l += loss\n",
    "    if (epoch + 1) % 10 == 0:\n",
    "        print(f\"epoch {epoch + 1} loss: {l}, train accuracy: {accuracy(train_iter, net)}, test accuracy: {accuracy(test_iter, net)}\")"
   ]
  },
  {
   "cell_type": "markdown",
   "metadata": {},
   "source": [
    "## 4.testing"
   ]
  },
  {
   "cell_type": "code",
   "execution_count": 8,
   "metadata": {},
   "outputs": [
    {
     "name": "stdout",
     "output_type": "stream",
     "text": [
      "0.9804\n"
     ]
    }
   ],
   "source": [
    "print(accuracy(test_iter, net))"
   ]
  }
 ],
 "metadata": {
  "kernelspec": {
   "display_name": "Python 3",
   "language": "python",
   "name": "python3"
  },
  "language_info": {
   "codemirror_mode": {
    "name": "ipython",
    "version": 3
   },
   "file_extension": ".py",
   "mimetype": "text/x-python",
   "name": "python",
   "nbconvert_exporter": "python",
   "pygments_lexer": "ipython3",
   "version": "3.7.6"
  }
 },
 "nbformat": 4,
 "nbformat_minor": 4
}
